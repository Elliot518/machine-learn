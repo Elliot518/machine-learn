{
 "cells": [
  {
   "cell_type": "markdown",
   "id": "09ce0a92",
   "metadata": {},
   "source": [
    "## Preallocating NumPy Arrays"
   ]
  },
  {
   "cell_type": "code",
   "execution_count": null,
   "id": "ac72626c",
   "metadata": {},
   "outputs": [],
   "source": [
    "### Generating arrays prefilled with data is useful for a number of purposes, such as making code\n",
    "### more performant or using synthetic data to test algorithms."
   ]
  },
  {
   "cell_type": "code",
   "execution_count": 1,
   "id": "1e3b0fb8",
   "metadata": {},
   "outputs": [],
   "source": [
    "import numpy as np"
   ]
  },
  {
   "cell_type": "code",
   "execution_count": 2,
   "id": "d3a163ef",
   "metadata": {},
   "outputs": [],
   "source": [
    "# Generate a vector of shape (1,5) containing all zeros\n",
    "vector = np.zeros(shape=5)"
   ]
  },
  {
   "cell_type": "code",
   "execution_count": 4,
   "id": "853ae4f3",
   "metadata": {},
   "outputs": [
    {
     "data": {
      "text/plain": [
       "array([0., 0., 0., 0., 0.])"
      ]
     },
     "execution_count": 4,
     "metadata": {},
     "output_type": "execute_result"
    }
   ],
   "source": [
    "# View the matrix\n",
    "vector\n"
   ]
  },
  {
   "cell_type": "code",
   "execution_count": 5,
   "id": "b9f4b3ff",
   "metadata": {},
   "outputs": [],
   "source": [
    "# Generate a matrix of shape (3,3) containing all ones\n",
    "matrix = np.full(shape=(3,3), fill_value=1)"
   ]
  },
  {
   "cell_type": "code",
   "execution_count": 6,
   "id": "3424622c",
   "metadata": {},
   "outputs": [
    {
     "data": {
      "text/plain": [
       "array([[1, 1, 1],\n",
       "       [1, 1, 1],\n",
       "       [1, 1, 1]])"
      ]
     },
     "execution_count": 6,
     "metadata": {},
     "output_type": "execute_result"
    }
   ],
   "source": [
    "matrix"
   ]
  },
  {
   "cell_type": "code",
   "execution_count": null,
   "id": "5352e4ab",
   "metadata": {},
   "outputs": [],
   "source": []
  }
 ],
 "metadata": {
  "kernelspec": {
   "display_name": "Python 3 (ipykernel)",
   "language": "python",
   "name": "python3"
  },
  "language_info": {
   "codemirror_mode": {
    "name": "ipython",
    "version": 3
   },
   "file_extension": ".py",
   "mimetype": "text/x-python",
   "name": "python",
   "nbconvert_exporter": "python",
   "pygments_lexer": "ipython3",
   "version": "3.9.16"
  }
 },
 "nbformat": 4,
 "nbformat_minor": 5
}
